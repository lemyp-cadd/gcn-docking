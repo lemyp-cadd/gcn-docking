{
  "nbformat": 4,
  "nbformat_minor": 0,
  "metadata": {
    "colab": {
      "provenance": []
    },
    "kernelspec": {
      "display_name": "Python 3",
      "name": "python3"
    },
    "language_info": {
      "name": "python"
    },
    "accelerator": "GPU"
  },
  "cells": [
    {
      "cell_type": "markdown",
      "metadata": {
        "id": "WNsUYzyPhkoC"
      },
      "source": [
        "### Custom version of augmented_GCN for classification"
      ]
    },
    {
      "cell_type": "code",
      "source": [
        "# Set working directory \n",
        "!git clone https://github.com/lemyp-cadd/gcn-docking.git"
      ],
      "metadata": {
        "colab": {
          "base_uri": "https://localhost:8080/"
        },
        "id": "SeD3_ZiDHM6v",
        "outputId": "fef2a53a-c0f6-4313-da73-ddd4a5ec16c7"
      },
      "execution_count": 6,
      "outputs": [
        {
          "output_type": "stream",
          "name": "stdout",
          "text": [
            "Cloning into 'gcn-docking'...\n",
            "remote: Enumerating objects: 109, done.\u001b[K\n",
            "remote: Counting objects: 100% (109/109), done.\u001b[K\n",
            "remote: Compressing objects: 100% (88/88), done.\u001b[K\n",
            "remote: Total 109 (delta 33), reused 40 (delta 6), pack-reused 0\n",
            "Receiving objects: 100% (109/109), 9.90 MiB | 10.87 MiB/s, done.\n",
            "Resolving deltas: 100% (33/33), done.\n"
          ]
        }
      ]
    },
    {
      "cell_type": "code",
      "metadata": {
        "colab": {
          "base_uri": "https://localhost:8080/"
        },
        "outputId": "a87a36e2-6845-400e-bc06-53c063462236",
        "id": "8pEJGolN1Rsq"
      },
      "source": [
        "%cd gcn-docking\n",
        "!tar -Jxvf AID1478_train.tar.xz\n",
        "!tar -Jxvf AID1478_test.tar.xz"
      ],
      "execution_count": 7,
      "outputs": [
        {
          "output_type": "stream",
          "name": "stdout",
          "text": [
            "/content/gcn-docking\n",
            "AID1478_train/\n",
            "AID1478_train/smiles.txt.xlsx\n",
            "AID1478_train/smiles.txt\n",
            "AID1478_train/AID1478_train_undersampled.csv\n",
            "AID1478_train/potency/\n",
            "AID1478_train/potency/0.npy\n",
            "AID1478_train/features/\n",
            "AID1478_train/features/0.npy\n",
            "AID1478_train/adj/\n",
            "AID1478_train/adj/0.npy\n",
            "AID1478_test/\n",
            "AID1478_test/potency/\n",
            "AID1478_test/potency/0.npy\n",
            "AID1478_test/potency/1.npy\n",
            "AID1478_test/potency/2.npy\n",
            "AID1478_test/potency/3.npy\n",
            "AID1478_test/smiles.txt\n",
            "AID1478_test/features/\n",
            "AID1478_test/features/3.npy\n",
            "AID1478_test/features/1.npy\n",
            "AID1478_test/features/2.npy\n",
            "AID1478_test/features/0.npy\n",
            "AID1478_test/adj/\n",
            "AID1478_test/adj/0.npy\n",
            "AID1478_test/adj/1.npy\n",
            "AID1478_test/adj/3.npy\n",
            "AID1478_test/adj/2.npy\n"
          ]
        }
      ]
    },
    {
      "cell_type": "code",
      "source": [
        "#%cd ../\n",
        "#!rm -r gcn-docking\n",
        "!ls"
      ],
      "metadata": {
        "colab": {
          "base_uri": "https://localhost:8080/"
        },
        "id": "R0n0xFM1JRg0",
        "outputId": "bfeaf45f-1a5f-4969-d182-0e1b5e31969a"
      },
      "execution_count": 8,
      "outputs": [
        {
          "output_type": "stream",
          "name": "stdout",
          "text": [
            "AID1478_test\t     AID1478_train\t   data\t\t\t README.md\n",
            "AID1478_test.tar.xz  AID1478_train.tar.xz  gcn-architecture.png\n"
          ]
        }
      ]
    },
    {
      "cell_type": "code",
      "metadata": {
        "colab": {
          "base_uri": "https://localhost:8080/"
        },
        "id": "PQv9_LVbh0iI",
        "outputId": "4d735e56-d2a2-4806-cdf4-b83778de1c1c"
      },
      "source": [
        "# Import modules \n",
        "from sklearn.metrics import accuracy_score\n",
        "from sklearn.metrics import roc_curve\n",
        "from sklearn.metrics import roc_auc_score\n",
        "import numpy as np\n",
        "\n",
        "#%tensorflow_version 1.x  # Ryu's GCN works with tf version 1.x (we should update it for tf 2)\n",
        "!pip install tensorflow\n",
        "import tensorflow as tf\n",
        "print(tf.__version__)"
      ],
      "execution_count": 35,
      "outputs": [
        {
          "output_type": "stream",
          "name": "stdout",
          "text": [
            "Looking in indexes: https://pypi.org/simple, https://us-python.pkg.dev/colab-wheels/public/simple/\n",
            "Requirement already satisfied: tensorflow in /usr/local/lib/python3.8/dist-packages (2.6.4)\n",
            "Requirement already satisfied: grpcio<2.0,>=1.37.0 in /usr/local/lib/python3.8/dist-packages (from tensorflow) (1.51.1)\n",
            "Requirement already satisfied: astunparse~=1.6.3 in /usr/local/lib/python3.8/dist-packages (from tensorflow) (1.6.3)\n",
            "Requirement already satisfied: tensorflow-estimator<2.7,>=2.6.0 in /usr/local/lib/python3.8/dist-packages (from tensorflow) (2.6.0)\n",
            "Requirement already satisfied: opt-einsum~=3.3.0 in /usr/local/lib/python3.8/dist-packages (from tensorflow) (3.3.0)\n",
            "Requirement already satisfied: wheel~=0.35 in /usr/local/lib/python3.8/dist-packages (from tensorflow) (0.38.4)\n",
            "Requirement already satisfied: keras<2.7,>=2.6.0 in /usr/local/lib/python3.8/dist-packages (from tensorflow) (2.6.0)\n",
            "Requirement already satisfied: flatbuffers~=1.12.0 in /usr/local/lib/python3.8/dist-packages (from tensorflow) (1.12)\n",
            "Requirement already satisfied: keras-preprocessing~=1.1.2 in /usr/local/lib/python3.8/dist-packages (from tensorflow) (1.1.2)\n",
            "Requirement already satisfied: termcolor~=1.1.0 in /usr/local/lib/python3.8/dist-packages (from tensorflow) (1.1.0)\n",
            "Requirement already satisfied: clang~=5.0 in /usr/local/lib/python3.8/dist-packages (from tensorflow) (5.0)\n",
            "Requirement already satisfied: wrapt~=1.12.1 in /usr/local/lib/python3.8/dist-packages (from tensorflow) (1.12.1)\n",
            "Requirement already satisfied: tensorboard<2.7,>=2.6.0 in /usr/local/lib/python3.8/dist-packages (from tensorflow) (2.6.0)\n",
            "Requirement already satisfied: google-pasta~=0.2 in /usr/local/lib/python3.8/dist-packages (from tensorflow) (0.2.0)\n",
            "Requirement already satisfied: six~=1.15.0 in /usr/local/lib/python3.8/dist-packages (from tensorflow) (1.15.0)\n",
            "Requirement already satisfied: protobuf>=3.9.2 in /usr/local/lib/python3.8/dist-packages (from tensorflow) (3.19.6)\n",
            "Requirement already satisfied: numpy~=1.19.2 in /usr/local/lib/python3.8/dist-packages (from tensorflow) (1.19.5)\n",
            "Requirement already satisfied: absl-py~=0.10 in /usr/local/lib/python3.8/dist-packages (from tensorflow) (0.15.0)\n",
            "Requirement already satisfied: gast==0.4.0 in /usr/local/lib/python3.8/dist-packages (from tensorflow) (0.4.0)\n",
            "Requirement already satisfied: h5py~=3.1.0 in /usr/local/lib/python3.8/dist-packages (from tensorflow) (3.1.0)\n",
            "Requirement already satisfied: typing-extensions<3.11,>=3.7 in /usr/local/lib/python3.8/dist-packages (from tensorflow) (3.10.0.2)\n",
            "Requirement already satisfied: tensorboard-plugin-wit>=1.6.0 in /usr/local/lib/python3.8/dist-packages (from tensorboard<2.7,>=2.6.0->tensorflow) (1.8.1)\n",
            "Requirement already satisfied: tensorboard-data-server<0.7.0,>=0.6.0 in /usr/local/lib/python3.8/dist-packages (from tensorboard<2.7,>=2.6.0->tensorflow) (0.6.1)\n",
            "Requirement already satisfied: google-auth-oauthlib<0.5,>=0.4.1 in /usr/local/lib/python3.8/dist-packages (from tensorboard<2.7,>=2.6.0->tensorflow) (0.4.6)\n",
            "Requirement already satisfied: werkzeug>=0.11.15 in /usr/local/lib/python3.8/dist-packages (from tensorboard<2.7,>=2.6.0->tensorflow) (1.0.1)\n",
            "Requirement already satisfied: requests<3,>=2.21.0 in /usr/local/lib/python3.8/dist-packages (from tensorboard<2.7,>=2.6.0->tensorflow) (2.23.0)\n",
            "Requirement already satisfied: google-auth<2,>=1.6.3 in /usr/local/lib/python3.8/dist-packages (from tensorboard<2.7,>=2.6.0->tensorflow) (1.35.0)\n",
            "Requirement already satisfied: setuptools>=41.0.0 in /usr/local/lib/python3.8/dist-packages (from tensorboard<2.7,>=2.6.0->tensorflow) (57.4.0)\n",
            "Requirement already satisfied: markdown>=2.6.8 in /usr/local/lib/python3.8/dist-packages (from tensorboard<2.7,>=2.6.0->tensorflow) (3.4.1)\n",
            "Requirement already satisfied: cachetools<5.0,>=2.0.0 in /usr/local/lib/python3.8/dist-packages (from google-auth<2,>=1.6.3->tensorboard<2.7,>=2.6.0->tensorflow) (4.2.4)\n",
            "Requirement already satisfied: pyasn1-modules>=0.2.1 in /usr/local/lib/python3.8/dist-packages (from google-auth<2,>=1.6.3->tensorboard<2.7,>=2.6.0->tensorflow) (0.2.8)\n",
            "Requirement already satisfied: rsa<5,>=3.1.4 in /usr/local/lib/python3.8/dist-packages (from google-auth<2,>=1.6.3->tensorboard<2.7,>=2.6.0->tensorflow) (4.9)\n",
            "Requirement already satisfied: requests-oauthlib>=0.7.0 in /usr/local/lib/python3.8/dist-packages (from google-auth-oauthlib<0.5,>=0.4.1->tensorboard<2.7,>=2.6.0->tensorflow) (1.3.1)\n",
            "Requirement already satisfied: importlib-metadata>=4.4 in /usr/local/lib/python3.8/dist-packages (from markdown>=2.6.8->tensorboard<2.7,>=2.6.0->tensorflow) (4.13.0)\n",
            "Requirement already satisfied: zipp>=0.5 in /usr/local/lib/python3.8/dist-packages (from importlib-metadata>=4.4->markdown>=2.6.8->tensorboard<2.7,>=2.6.0->tensorflow) (3.11.0)\n",
            "Requirement already satisfied: pyasn1<0.5.0,>=0.4.6 in /usr/local/lib/python3.8/dist-packages (from pyasn1-modules>=0.2.1->google-auth<2,>=1.6.3->tensorboard<2.7,>=2.6.0->tensorflow) (0.4.8)\n",
            "Requirement already satisfied: idna<3,>=2.5 in /usr/local/lib/python3.8/dist-packages (from requests<3,>=2.21.0->tensorboard<2.7,>=2.6.0->tensorflow) (2.10)\n",
            "Requirement already satisfied: chardet<4,>=3.0.2 in /usr/local/lib/python3.8/dist-packages (from requests<3,>=2.21.0->tensorboard<2.7,>=2.6.0->tensorflow) (3.0.4)\n",
            "Requirement already satisfied: urllib3!=1.25.0,!=1.25.1,<1.26,>=1.21.1 in /usr/local/lib/python3.8/dist-packages (from requests<3,>=2.21.0->tensorboard<2.7,>=2.6.0->tensorflow) (1.24.3)\n",
            "Requirement already satisfied: certifi>=2017.4.17 in /usr/local/lib/python3.8/dist-packages (from requests<3,>=2.21.0->tensorboard<2.7,>=2.6.0->tensorflow) (2022.9.24)\n",
            "Requirement already satisfied: oauthlib>=3.0.0 in /usr/local/lib/python3.8/dist-packages (from requests-oauthlib>=0.7.0->google-auth-oauthlib<0.5,>=0.4.1->tensorboard<2.7,>=2.6.0->tensorflow) (3.2.2)\n",
            "2.6.4\n"
          ]
        }
      ]
    },
    {
      "cell_type": "code",
      "metadata": {
        "id": "szQ9WDd4h6Jz",
        "colab": {
          "base_uri": "https://localhost:8080/",
          "height": 235
        },
        "outputId": "56a86816-3aa0-4ae1-fdf3-beda02377c03"
      },
      "source": [
        "# Set FLAGS for environment setting / hyperparameters \n",
        "method = 'GCN+a+g'\n",
        "prop = 'activity' ### CHANGED ###\n",
        "database = 'AID1478_train'\n",
        "num_layer = 5 # number of convolutional layers \n",
        "epoch_size = 40\n",
        "learning_rate = 0.001\n",
        "decay_rate = 0.95\n",
        "numDB = 1   ### This is the train num_Db ###\n",
        "test_numDB = 4\n",
        "unit_len = 10000\n",
        "\n",
        "flags = tf.app.flags\n",
        "FLAGS = flags.FLAGS\n",
        "\n",
        "for name in list(flags.FLAGS):\n",
        "    delattr(flags.FLAGS,name)\n",
        "\n",
        "flags.DEFINE_string('model', method, 'GCN, GCN+a, GCN+g, GCN+a+g')\n",
        "flags.DEFINE_string('output', prop, '')\n",
        "flags.DEFINE_string('loss_type', 'CrossEntropy', 'Options : MSE, CrossEntropy, Hinge')  ### CHANGED ###  \n",
        "flags.DEFINE_string('database', database, 'Options : ZINC, ZINC2')  ### Using MSEr \n",
        "flags.DEFINE_string('optimizer', 'Adam', 'Options : Adam, SGD, RMSProp')\n",
        "flags.DEFINE_string('readout', 'atomwise', 'Options : atomwise, graph_gather')\n",
        "flags.DEFINE_integer('latent_dim', 512, 'Dimension of a latent vector for autoencoder')\n",
        "flags.DEFINE_integer('num_layers', num_layer, '# of hidden layers')\n",
        "flags.DEFINE_integer('epoch_size', epoch_size, 'Epoch size')\n",
        "flags.DEFINE_integer('batch_size', 100, 'Batch size')\n",
        "flags.DEFINE_integer('save_every', 1000, 'Save every')\n",
        "flags.DEFINE_float('learning_rate', learning_rate, 'Batch size')\n",
        "flags.DEFINE_float('decay_rate', decay_rate, 'Batch size')\n",
        "flags.DEFINE_integer('num_DB', numDB, '')\n",
        "flags.DEFINE_integer('unitLen', unit_len, '')\n",
        "tf.app.flags.DEFINE_string('f', '', 'kernel')\n",
        "\n",
        "modelName = FLAGS.model + '_' + str(FLAGS.num_layers) + '_' + FLAGS.output + '_' + FLAGS.readout + '_' + str(FLAGS.latent_dim) + '_' + FLAGS.database\n",
        "\n",
        "print(\"model Name: \", modelName)"
      ],
      "execution_count": 36,
      "outputs": [
        {
          "output_type": "error",
          "ename": "AttributeError",
          "evalue": "ignored",
          "traceback": [
            "\u001b[0;31m---------------------------------------------------------------------------\u001b[0m",
            "\u001b[0;31mAttributeError\u001b[0m                            Traceback (most recent call last)",
            "\u001b[0;32m<ipython-input-36-492ca1723efc>\u001b[0m in \u001b[0;36m<module>\u001b[0;34m\u001b[0m\n\u001b[1;32m     11\u001b[0m \u001b[0munit_len\u001b[0m \u001b[0;34m=\u001b[0m \u001b[0;36m10000\u001b[0m\u001b[0;34m\u001b[0m\u001b[0;34m\u001b[0m\u001b[0m\n\u001b[1;32m     12\u001b[0m \u001b[0;34m\u001b[0m\u001b[0m\n\u001b[0;32m---> 13\u001b[0;31m \u001b[0mflags\u001b[0m \u001b[0;34m=\u001b[0m \u001b[0mtf\u001b[0m\u001b[0;34m.\u001b[0m\u001b[0mapp\u001b[0m\u001b[0;34m.\u001b[0m\u001b[0mflags\u001b[0m\u001b[0;34m\u001b[0m\u001b[0;34m\u001b[0m\u001b[0m\n\u001b[0m\u001b[1;32m     14\u001b[0m \u001b[0mFLAGS\u001b[0m \u001b[0;34m=\u001b[0m \u001b[0mflags\u001b[0m\u001b[0;34m.\u001b[0m\u001b[0mFLAGS\u001b[0m\u001b[0;34m\u001b[0m\u001b[0;34m\u001b[0m\u001b[0m\n\u001b[1;32m     15\u001b[0m \u001b[0;34m\u001b[0m\u001b[0m\n",
            "\u001b[0;31mAttributeError\u001b[0m: module 'tensorflow' has no attribute 'app'"
          ]
        }
      ]
    },
    {
      "cell_type": "code",
      "metadata": {
        "id": "zQhaejf-jbfk"
      },
      "source": [
        "# Build the model\n",
        "import warnings\n",
        "warnings.simplefilter(action='ignore', category=FutureWarning)\n",
        "from Graph2Property_mod import Graph2Property  ### CHANGED ###\n",
        "tf.reset_default_graph()\n",
        "tf.set_random_seed(1234)\t# For reproducibility purposes, a random seed was set\n",
        "model = Graph2Property(FLAGS)"
      ],
      "execution_count": null,
      "outputs": []
    },
    {
      "cell_type": "code",
      "metadata": {
        "id": "VH16cwSU-ht8"
      },
      "source": [
        "# restore the model if available \n",
        "path='save/'+modelName+'.ckpt'\n",
        "try: \n",
        "  model.restore(path)\n",
        "except Exception as e: print(e)"
      ],
      "execution_count": null,
      "outputs": []
    },
    {
      "cell_type": "code",
      "metadata": {
        "id": "HCvTKPC4jx4K"
      },
      "source": [
        "# Train the model \n",
        "\n",
        "import train_mod \n",
        "train_cost, test_cost = train_mod.training(model, FLAGS, modelName)"
      ],
      "execution_count": null,
      "outputs": []
    },
    {
      "cell_type": "code",
      "metadata": {
        "id": "UdnxcN8RkC8m"
      },
      "source": [
        "# plot cost versus epoch \n",
        "from matplotlib import pyplot\n",
        "\n",
        "epochs = np.arange(1, FLAGS.epoch_size+1, 1)\n",
        "\n",
        "pyplot.plot(epochs,train_cost, label='train')\n",
        "pyplot.plot(epochs,test_cost, label='valid')\n",
        "pyplot.xlabel('epoch')\n",
        "pyplot.ylabel('cross entropy')\n",
        "pyplot.legend(loc='upper right', fontsize=13, frameon=False)\n",
        "pyplot.savefig(\"cost_vs_epoch.png\")\n",
        "pyplot.close()"
      ],
      "execution_count": null,
      "outputs": []
    },
    {
      "cell_type": "code",
      "metadata": {
        "id": "EoVATnkUkUXt"
      },
      "source": [
        "from eval import train_valid_split\n",
        "from eval import pred_batches\n",
        "from eval import loadTest\n",
        "\n",
        "# load tran valid and test \n",
        "train_set, valid_set = train_valid_split(model, FLAGS, modelName)\n",
        "\n",
        "test_database = 'AID1478_test'\n",
        "test_set = loadTest(model, FLAGS, modelName, test_database, test_numDB)\n",
        "\n",
        "# extract predictions out of batches \n",
        "Preds_train_set = pred_batches(model, train_set, FLAGS)\n",
        "Preds_valid_set = pred_batches(model, valid_set, FLAGS)\n",
        "Preds_test_set = pred_batches(model, test_set, FLAGS)\n"
      ],
      "execution_count": null,
      "outputs": []
    },
    {
      "cell_type": "code",
      "metadata": {
        "id": "Skb3hRRili-a"
      },
      "source": [
        "# calculate accuracy score\n",
        "accuracy = accuracy_score(valid_set[2], Preds_valid_set.round())\n",
        "print (\"valid accuracy: \", accuracy)\n",
        "\n",
        "accuracy = accuracy_score(test_set[2], Preds_test_set.round())\n",
        "print (\"test accuracy: \", accuracy)\n",
        "\n",
        "# calculate auc score & plot roc curve \n",
        "fpr, tpr, _ = roc_curve(valid_set[2], Preds_valid_set)\n",
        "auc = roc_auc_score(valid_set[2], Preds_valid_set)\n",
        "print (\"valid AUC: \", auc)\n",
        "\n",
        "pyplot.plot(fpr, tpr, marker='.', label='AUC = {:0.3f}'.format(auc))\n",
        "pyplot.plot([0, 1], [0, 1], color='navy', lw=2, linestyle='--')\n",
        "# axis labels\n",
        "pyplot.xlabel('False Positive Rate')\n",
        "pyplot.ylabel('True Positive Rate')\n",
        "pyplot.legend(loc='lower right', fontsize=13, frameon=False)\n",
        "# save the plot\n",
        "pyplot.savefig('roc_curve_valid.png')\n",
        "pyplot.close()\n",
        "\n",
        "fpr, tpr, _ = roc_curve(test_set[2], Preds_test_set)\n",
        "auc = roc_auc_score(test_set[2], Preds_test_set)\n",
        "print (\"test AUC: \", auc)\n",
        "\n",
        "pyplot.plot(fpr, tpr, marker='.', label='AUC = {:0.3f}'.format(auc))\n",
        "pyplot.plot([0, 1], [0, 1], color='navy', lw=2, linestyle='--')\n",
        "# axis labels\n",
        "pyplot.xlabel('False Positive Rate')\n",
        "pyplot.ylabel('True Positive Rate')\n",
        "pyplot.legend(loc='lower right', fontsize=13, frameon=False)\n",
        "# save the plot\n",
        "pyplot.savefig('roc_curve_test.png')"
      ],
      "execution_count": null,
      "outputs": []
    }
  ]
}